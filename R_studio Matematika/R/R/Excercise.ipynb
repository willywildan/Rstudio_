{
 "cells": [
  {
   "cell_type": "code",
   "execution_count": 35,
   "metadata": {},
   "outputs": [],
   "source": [
    "#5x - 4y = -10\n",
    "#-x + y = 2"
   ]
  },
  {
   "cell_type": "code",
   "execution_count": null,
   "metadata": {},
   "outputs": [],
   "source": [
    "A <- matrix(c(5, -4, -1, 1), 2, 2, TRUE)\n",
    "b <- c(-10, 2)\n",
    "x <- solve(A) %*% b"
   ]
  },
  {
   "cell_type": "code",
   "execution_count": null,
   "metadata": {},
   "outputs": [],
   "source": [
    "#4x - 2y = 2\n",
    "#5x - 2y + z = 7\n",
    "#3x + 4y - z = 3"
   ]
  },
  {
   "cell_type": "code",
   "execution_count": 36,
   "metadata": {},
   "outputs": [],
   "source": [
    "A <- matrix(c(4, -2, 0, 5, -2, 1, 3, 4, -1), 3, 3, TRUE)\n",
    "b <- c(2, 7, 3)\n",
    "x <- solve(A) %*% b"
   ]
  },
  {
   "cell_type": "code",
   "execution_count": 37,
   "metadata": {},
   "outputs": [],
   "source": [
    "#x + y + z = 5\n",
    "#2x + 3y + 5z = 8\n",
    "#4x + 5z = 2"
   ]
  },
  {
   "cell_type": "code",
   "execution_count": 38,
   "metadata": {},
   "outputs": [],
   "source": [
    "A <- matrix(c(1, 1, 1, 2, 3, 5, 4, 0, 5), 3, 3, TRUE)\n",
    "b <- c(5, 8, 2)\n",
    "x <- solve(A) %*% b"
   ]
  },
  {
   "cell_type": "code",
   "execution_count": 39,
   "metadata": {},
   "outputs": [],
   "source": [
    "#2x + 5y + z = -12\n",
    "#-x + 4y + 3z = -4\n",
    "#5x - 2z = -13"
   ]
  },
  {
   "cell_type": "code",
   "execution_count": 40,
   "metadata": {},
   "outputs": [],
   "source": [
    "A <- matrix(c(2, 5, 1, -1, 4, 3, 5, 0, -2), 3, 3, TRUE)\n",
    "b <- c(-12, -4, -13)\n",
    "x <- solve(A) %*% b"
   ]
  }
 ],
 "metadata": {
  "kernelspec": {
   "display_name": "R",
   "language": "R",
   "name": "ir"
  },
  "language_info": {
   "codemirror_mode": "r",
   "file_extension": ".r",
   "mimetype": "text/x-r-source",
   "name": "R",
   "pygments_lexer": "r",
   "version": "3.4.3"
  }
 },
 "nbformat": 4,
 "nbformat_minor": 2
}
