{
 "cells": [
  {
   "cell_type": "code",
   "execution_count": 1,
   "metadata": {},
   "outputs": [],
   "source": [
    "#1.1 f(x) = x^3 + x^2 - 6\n",
    "#1.2 g(a, b) = ab(b - a)\n",
    "#1.3 h(m, n) = (√m/n) + m - 2n\n",
    "\n",
    "#2.1 f(a, b) = (a + b)ab\n",
    "#2.2 h(m, n) = |m|n − mn\n",
    "#2.3 g(x) = x'x − 2x"
   ]
  },
  {
   "cell_type": "code",
   "execution_count": 12,
   "metadata": {},
   "outputs": [],
   "source": [
    "#1.1\n",
    "f1 <- function(x){\n",
    "    h <- x^3 + x^2 - 6\n",
    "    return (h)\n",
    "}\n",
    "#1.2\n",
    "f2 <- function(a, b){\n",
    "    h <- a*b*(b-a)\n",
    "    return (h)\n",
    "}\n",
    "#1.3\n",
    "f3 <- function(m, n){\n",
    "    h <- (sqrt(m)/n) + m - 2*n\n",
    "    return (h)\n",
    "}"
   ]
  },
  {
   "cell_type": "code",
   "execution_count": 13,
   "metadata": {},
   "outputs": [
    {
     "data": {
      "text/html": [
       "246"
      ],
      "text/latex": [
       "246"
      ],
      "text/markdown": [
       "246"
      ],
      "text/plain": [
       "[1] 246"
      ]
     },
     "metadata": {},
     "output_type": "display_data"
    },
    {
     "data": {
      "text/html": [
       "-56"
      ],
      "text/latex": [
       "-56"
      ],
      "text/markdown": [
       "-56"
      ],
      "text/plain": [
       "[1] -56"
      ]
     },
     "metadata": {},
     "output_type": "display_data"
    },
    {
     "data": {
      "text/html": [
       "4.66666666666667"
      ],
      "text/latex": [
       "4.66666666666667"
      ],
      "text/markdown": [
       "4.66666666666667"
      ],
      "text/plain": [
       "[1] 4.666667"
      ]
     },
     "metadata": {},
     "output_type": "display_data"
    }
   ],
   "source": [
    "f1(6)\n",
    "f2(8, 1)\n",
    "f3(16, 6)"
   ]
  },
  {
   "cell_type": "code",
   "execution_count": 19,
   "metadata": {},
   "outputs": [],
   "source": [
    "#2.1\n",
    "f4 <- function(a, b){\n",
    "    h <- (a + b) %*% a %*% b\n",
    "    return (h)\n",
    "}\n",
    "#2.2\n",
    "f5 <- function(m, n){\n",
    "    h <- det(m)*n - m %*% n\n",
    "    return (h)\n",
    "}\n",
    "#2.3\n",
    "f6 <- function(x){\n",
    "    h <- solve(x) %*% x - 2*x\n",
    "    return (h)\n",
    "}"
   ]
  },
  {
   "cell_type": "code",
   "execution_count": 20,
   "metadata": {},
   "outputs": [
    {
     "data": {
      "text/html": [
       "<table>\n",
       "<tbody>\n",
       "\t<tr><td> 8158</td><td>15072</td></tr>\n",
       "\t<tr><td>11874</td><td>22004</td></tr>\n",
       "</tbody>\n",
       "</table>\n"
      ],
      "text/latex": [
       "\\begin{tabular}{ll}\n",
       "\t  8158 & 15072\\\\\n",
       "\t 11874 & 22004\\\\\n",
       "\\end{tabular}\n"
      ],
      "text/markdown": [
       "\n",
       "|  8158 | 15072 | \n",
       "| 11874 | 22004 | \n",
       "\n",
       "\n"
      ],
      "text/plain": [
       "     [,1]  [,2] \n",
       "[1,]  8158 15072\n",
       "[2,] 11874 22004"
      ]
     },
     "metadata": {},
     "output_type": "display_data"
    },
    {
     "data": {
      "text/html": [
       "<table>\n",
       "<tbody>\n",
       "\t<tr><td>572 </td><td>1288</td></tr>\n",
       "\t<tr><td>494 </td><td> 608</td></tr>\n",
       "</tbody>\n",
       "</table>\n"
      ],
      "text/latex": [
       "\\begin{tabular}{ll}\n",
       "\t 572  & 1288\\\\\n",
       "\t 494  &  608\\\\\n",
       "\\end{tabular}\n"
      ],
      "text/markdown": [
       "\n",
       "| 572  | 1288 | \n",
       "| 494  |  608 | \n",
       "\n",
       "\n"
      ],
      "text/plain": [
       "     [,1] [,2]\n",
       "[1,] 572  1288\n",
       "[2,] 494   608"
      ]
     },
     "metadata": {},
     "output_type": "display_data"
    },
    {
     "data": {
      "text/html": [
       "<table>\n",
       "<tbody>\n",
       "\t<tr><td>-13</td><td> -4</td></tr>\n",
       "\t<tr><td>-32</td><td>-29</td></tr>\n",
       "</tbody>\n",
       "</table>\n"
      ],
      "text/latex": [
       "\\begin{tabular}{ll}\n",
       "\t -13 &  -4\\\\\n",
       "\t -32 & -29\\\\\n",
       "\\end{tabular}\n"
      ],
      "text/markdown": [
       "\n",
       "| -13 |  -4 | \n",
       "| -32 | -29 | \n",
       "\n",
       "\n"
      ],
      "text/plain": [
       "     [,1] [,2]\n",
       "[1,] -13   -4 \n",
       "[2,] -32  -29 "
      ]
     },
     "metadata": {},
     "output_type": "display_data"
    }
   ],
   "source": [
    "values1 <- sample(1:20, 4)\n",
    "values2 <- sample(1:20, 4)\n",
    "\n",
    "a <- matrix(values1, 2, 2)\n",
    "b <- matrix(values2, 2, 2)\n",
    "\n",
    "f4(a, b)\n",
    "f5(a, b)\n",
    "f6(a)"
   ]
  }
 ],
 "metadata": {
  "kernelspec": {
   "display_name": "R",
   "language": "R",
   "name": "ir"
  },
  "language_info": {
   "codemirror_mode": "r",
   "file_extension": ".r",
   "mimetype": "text/x-r-source",
   "name": "R",
   "pygments_lexer": "r",
   "version": "3.4.3"
  }
 },
 "nbformat": 4,
 "nbformat_minor": 2
}
