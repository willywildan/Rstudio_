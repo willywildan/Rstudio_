{
 "cells": [
  {
   "cell_type": "code",
   "execution_count": 8,
   "metadata": {},
   "outputs": [],
   "source": [
    "#2\n",
    "A <- matrix(c(1, 2, 3, 8, 2, 9), 3, 2, TRUE)\n",
    "B <- matrix(c(5, 4, 8, 2), 2, 2, TRUE)"
   ]
  },
  {
   "cell_type": "code",
   "execution_count": 10,
   "metadata": {},
   "outputs": [
    {
     "data": {
      "text/html": [
       "<table>\n",
       "<tbody>\n",
       "\t<tr><td>21</td><td> 8</td></tr>\n",
       "\t<tr><td>79</td><td>28</td></tr>\n",
       "\t<tr><td>82</td><td>26</td></tr>\n",
       "</tbody>\n",
       "</table>\n"
      ],
      "text/latex": [
       "\\begin{tabular}{ll}\n",
       "\t 21 &  8\\\\\n",
       "\t 79 & 28\\\\\n",
       "\t 82 & 26\\\\\n",
       "\\end{tabular}\n"
      ],
      "text/markdown": [
       "\n",
       "| 21 |  8 | \n",
       "| 79 | 28 | \n",
       "| 82 | 26 | \n",
       "\n",
       "\n"
      ],
      "text/plain": [
       "     [,1] [,2]\n",
       "[1,] 21    8  \n",
       "[2,] 79   28  \n",
       "[3,] 82   26  "
      ]
     },
     "metadata": {},
     "output_type": "display_data"
    },
    {
     "data": {
      "text/html": [
       "<table>\n",
       "<tbody>\n",
       "\t<tr><td> 40.90909</td><td> 35.18182</td></tr>\n",
       "\t<tr><td>148.90909</td><td>116.18182</td></tr>\n",
       "\t<tr><td>147.27273</td><td> 96.95455</td></tr>\n",
       "</tbody>\n",
       "</table>\n"
      ],
      "text/latex": [
       "\\begin{tabular}{ll}\n",
       "\t  40.90909 &  35.18182\\\\\n",
       "\t 148.90909 & 116.18182\\\\\n",
       "\t 147.27273 &  96.95455\\\\\n",
       "\\end{tabular}\n"
      ],
      "text/markdown": [
       "\n",
       "|  40.90909 |  35.18182 | \n",
       "| 148.90909 | 116.18182 | \n",
       "| 147.27273 |  96.95455 | \n",
       "\n",
       "\n"
      ],
      "text/plain": [
       "     [,1]      [,2]     \n",
       "[1,]  40.90909  35.18182\n",
       "[2,] 148.90909 116.18182\n",
       "[3,] 147.27273  96.95455"
      ]
     },
     "metadata": {},
     "output_type": "display_data"
    }
   ],
   "source": [
    "#2.a\n",
    "A %*% B\n",
    "\n",
    "#2.b\n",
    "x <- A %*% solve(B)\n",
    "x\n",
    "\n",
    "#2.c\n",
    "y <- A %*% t(B)\n",
    "y\n",
    "\n",
    "#2.d\n",
    "3 * (x + y)"
   ]
  },
  {
   "cell_type": "code",
   "execution_count": 73,
   "metadata": {},
   "outputs": [],
   "source": [
    "#1\n",
    "A <- matrix(c(1, 1, 3, 5, 2, 6, -2, -1, -3), 3, 3, TRUE)"
   ]
  },
  {
   "cell_type": "code",
   "execution_count": 74,
   "metadata": {},
   "outputs": [
    {
     "data": {
      "text/html": [
       "<table>\n",
       "<tbody>\n",
       "\t<tr><td>0</td><td>0</td><td>0</td></tr>\n",
       "\t<tr><td>0</td><td>0</td><td>0</td></tr>\n",
       "\t<tr><td>0</td><td>0</td><td>0</td></tr>\n",
       "</tbody>\n",
       "</table>\n"
      ],
      "text/latex": [
       "\\begin{tabular}{lll}\n",
       "\t 0 & 0 & 0\\\\\n",
       "\t 0 & 0 & 0\\\\\n",
       "\t 0 & 0 & 0\\\\\n",
       "\\end{tabular}\n"
      ],
      "text/markdown": [
       "\n",
       "| 0 | 0 | 0 | \n",
       "| 0 | 0 | 0 | \n",
       "| 0 | 0 | 0 | \n",
       "\n",
       "\n"
      ],
      "text/plain": [
       "     [,1] [,2] [,3]\n",
       "[1,] 0    0    0   \n",
       "[2,] 0    0    0   \n",
       "[3,] 0    0    0   "
      ]
     },
     "metadata": {},
     "output_type": "display_data"
    },
    {
     "data": {
      "text/html": [
       "<table>\n",
       "<tbody>\n",
       "\t<tr><td> 1</td><td> 1</td><td> 4</td></tr>\n",
       "\t<tr><td> 5</td><td> 2</td><td> 8</td></tr>\n",
       "\t<tr><td>-2</td><td>-1</td><td>-4</td></tr>\n",
       "</tbody>\n",
       "</table>\n"
      ],
      "text/latex": [
       "\\begin{tabular}{lll}\n",
       "\t  1 &  1 &  4\\\\\n",
       "\t  5 &  2 &  8\\\\\n",
       "\t -2 & -1 & -4\\\\\n",
       "\\end{tabular}\n"
      ],
      "text/markdown": [
       "\n",
       "|  1 |  1 |  4 | \n",
       "|  5 |  2 |  8 | \n",
       "| -2 | -1 | -4 | \n",
       "\n",
       "\n"
      ],
      "text/plain": [
       "     [,1] [,2] [,3]\n",
       "[1,]  1    1    4  \n",
       "[2,]  5    2    8  \n",
       "[3,] -2   -1   -4  "
      ]
     },
     "metadata": {},
     "output_type": "display_data"
    }
   ],
   "source": [
    "#1.a\n",
    "A %*% A %*% A\n",
    "\n",
    "#1.b\n",
    "y <- cbind(A[ , 2]) + cbind(A[ , 3])\n",
    "A[ , 3] <- y\n",
    "A"
   ]
  },
  {
   "cell_type": "code",
   "execution_count": 37,
   "metadata": {},
   "outputs": [],
   "source": [
    "#4\n",
    "A <- matrix(1:9, 3, 3, TRUE)"
   ]
  },
  {
   "cell_type": "code",
   "execution_count": 58,
   "metadata": {},
   "outputs": [
    {
     "data": {
      "text/html": [
       "<table>\n",
       "<tbody>\n",
       "\t<tr><td>0 </td><td> 0</td><td> 0</td></tr>\n",
       "\t<tr><td>1 </td><td> 2</td><td> 8</td></tr>\n",
       "\t<tr><td>1 </td><td>-1</td><td>-4</td></tr>\n",
       "</tbody>\n",
       "</table>\n"
      ],
      "text/latex": [
       "\\begin{tabular}{lll}\n",
       "\t 0  &  0 &  0\\\\\n",
       "\t 1  &  2 &  8\\\\\n",
       "\t 1  & -1 & -4\\\\\n",
       "\\end{tabular}\n"
      ],
      "text/markdown": [
       "\n",
       "| 0  |  0 |  0 | \n",
       "| 1  |  2 |  8 | \n",
       "| 1  | -1 | -4 | \n",
       "\n",
       "\n"
      ],
      "text/plain": [
       "     [,1] [,2] [,3]\n",
       "[1,] 0     0    0  \n",
       "[2,] 1     2    8  \n",
       "[3,] 1    -1   -4  "
      ]
     },
     "metadata": {},
     "output_type": "display_data"
    }
   ],
   "source": [
    "for (j in 1:ncol(A)){\n",
    "    A[1, j] <- A[j, 1] * 0\n",
    "    if (A[2, 1] && A[3, 1] != 1){\n",
    "        A[2, 1] <- A[2, 1] / A[2, 1]\n",
    "        A[3, 1] <- A[3, 1] / A[3, 1]\n",
    "    }\n",
    "}\n",
    "A"
   ]
  },
  {
   "cell_type": "code",
   "execution_count": 20,
   "metadata": {},
   "outputs": [],
   "source": [
    "#3\n",
    "A <- matrix(c(1, 2, -3, -2, 1, 2, 3, 1, -2), 3, 3)\n",
    "b <- c(7, 4, -10)"
   ]
  },
  {
   "cell_type": "code",
   "execution_count": 36,
   "metadata": {},
   "outputs": [
    {
     "ename": "ERROR",
     "evalue": "Error in showEqn(A, b): could not find function \"showEqn\"\n",
     "output_type": "error",
     "traceback": [
      "Error in showEqn(A, b): could not find function \"showEqn\"\nTraceback:\n"
     ]
    }
   ],
   "source": [
    "#3.a\n",
    "showEqn(A, b)\n",
    "#3.b\n",
    "Solve(A, b)\n",
    "solve(A) %*% b\n",
    "inv(A) %*% b\n",
    "#3.c\n",
    "plotEqn3d(A, b, xlim=c(0, 4), ylim=c(0, 4))\n",
    "#3.d\n",
    "echelon(A, b)\n",
    "echelon(A, b, verbose=TRUE, fractions=TRUE)"
   ]
  }
 ],
 "metadata": {
  "kernelspec": {
   "display_name": "R",
   "language": "R",
   "name": "ir"
  },
  "language_info": {
   "codemirror_mode": "r",
   "file_extension": ".r",
   "mimetype": "text/x-r-source",
   "name": "R",
   "pygments_lexer": "r",
   "version": "3.5.1"
  }
 },
 "nbformat": 4,
 "nbformat_minor": 2
}
