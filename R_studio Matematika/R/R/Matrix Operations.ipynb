{
 "cells": [
  {
   "cell_type": "code",
   "execution_count": 4,
   "metadata": {},
   "outputs": [
    {
     "name": "stdout",
     "output_type": "stream",
     "text": [
      "     [,1] [,2] [,3]\n",
      "[1,]    1    2    3\n",
      "[2,]    9    5    6\n",
      "[3,]    7    8    9\n",
      "     [,1] [,2] [,3]\n",
      "[1,]    3    6    2\n",
      "[2,]    7    1    4\n",
      "[3,]    5    9    8\n"
     ]
    },
    {
     "data": {
      "text/html": [
       "30"
      ],
      "text/latex": [
       "30"
      ],
      "text/markdown": [
       "30"
      ],
      "text/plain": [
       "[1] 30"
      ]
     },
     "metadata": {},
     "output_type": "display_data"
    },
    {
     "data": {
      "text/html": [
       "<table>\n",
       "<tbody>\n",
       "\t<tr><td>-0.100000 </td><td> 0.2      </td><td>-0.1000000</td></tr>\n",
       "\t<tr><td>-1.300000 </td><td>-0.4      </td><td> 0.7000000</td></tr>\n",
       "\t<tr><td> 1.233333 </td><td> 0.2      </td><td>-0.4333333</td></tr>\n",
       "</tbody>\n",
       "</table>\n"
      ],
      "text/latex": [
       "\\begin{tabular}{lll}\n",
       "\t -0.100000  &  0.2       & -0.1000000\\\\\n",
       "\t -1.300000  & -0.4       &  0.7000000\\\\\n",
       "\t  1.233333  &  0.2       & -0.4333333\\\\\n",
       "\\end{tabular}\n"
      ],
      "text/markdown": [
       "\n",
       "| -0.100000  |  0.2       | -0.1000000 | \n",
       "| -1.300000  | -0.4       |  0.7000000 | \n",
       "|  1.233333  |  0.2       | -0.4333333 | \n",
       "\n",
       "\n"
      ],
      "text/plain": [
       "     [,1]      [,2] [,3]      \n",
       "[1,] -0.100000  0.2 -0.1000000\n",
       "[2,] -1.300000 -0.4  0.7000000\n",
       "[3,]  1.233333  0.2 -0.4333333"
      ]
     },
     "metadata": {},
     "output_type": "display_data"
    }
   ],
   "source": [
    "a <- matrix(c(1, 2, 3, 9, 5, 6, 7, 8, 9), 3, 3, TRUE)\n",
    "b <- matrix(c(3, 6, 2, 7, 1, 4, 5, 9, 8), 3, 3, TRUE)\n",
    "print(a)\n",
    "print(b)"
   ]
  },
  {
   "cell_type": "code",
   "execution_count": 11,
   "metadata": {},
   "outputs": [
    {
     "data": {
      "text/html": [
       "<table>\n",
       "<tbody>\n",
       "\t<tr><td> 4</td><td> 8</td><td> 5</td></tr>\n",
       "\t<tr><td>11</td><td> 6</td><td>10</td></tr>\n",
       "\t<tr><td>12</td><td>17</td><td>17</td></tr>\n",
       "</tbody>\n",
       "</table>\n"
      ],
      "text/latex": [
       "\\begin{tabular}{lll}\n",
       "\t  4 &  8 &  5\\\\\n",
       "\t 11 &  6 & 10\\\\\n",
       "\t 12 & 17 & 17\\\\\n",
       "\\end{tabular}\n"
      ],
      "text/markdown": [
       "\n",
       "|  4 |  8 |  5 | \n",
       "| 11 |  6 | 10 | \n",
       "| 12 | 17 | 17 | \n",
       "\n",
       "\n"
      ],
      "text/plain": [
       "     [,1] [,2] [,3]\n",
       "[1,]  4    8    5  \n",
       "[2,] 11    6   10  \n",
       "[3,] 12   17   17  "
      ]
     },
     "metadata": {},
     "output_type": "display_data"
    }
   ],
   "source": [
    "a + b"
   ]
  },
  {
   "cell_type": "code",
   "execution_count": 12,
   "metadata": {},
   "outputs": [
    {
     "data": {
      "text/html": [
       "<table>\n",
       "<tbody>\n",
       "\t<tr><td> 2</td><td> 4</td><td>-1</td></tr>\n",
       "\t<tr><td> 3</td><td>-4</td><td>-2</td></tr>\n",
       "\t<tr><td>-2</td><td> 1</td><td>-1</td></tr>\n",
       "</tbody>\n",
       "</table>\n"
      ],
      "text/latex": [
       "\\begin{tabular}{lll}\n",
       "\t  2 &  4 & -1\\\\\n",
       "\t  3 & -4 & -2\\\\\n",
       "\t -2 &  1 & -1\\\\\n",
       "\\end{tabular}\n"
      ],
      "text/markdown": [
       "\n",
       "|  2 |  4 | -1 | \n",
       "|  3 | -4 | -2 | \n",
       "| -2 |  1 | -1 | \n",
       "\n",
       "\n"
      ],
      "text/plain": [
       "     [,1] [,2] [,3]\n",
       "[1,]  2    4   -1  \n",
       "[2,]  3   -4   -2  \n",
       "[3,] -2    1   -1  "
      ]
     },
     "metadata": {},
     "output_type": "display_data"
    }
   ],
   "source": [
    "b - a"
   ]
  },
  {
   "cell_type": "code",
   "execution_count": 33,
   "metadata": {},
   "outputs": [
    {
     "data": {
      "text/html": [
       "<table>\n",
       "<tbody>\n",
       "\t<tr><td> 2</td><td> 4</td><td> 6</td></tr>\n",
       "\t<tr><td> 8</td><td>10</td><td>12</td></tr>\n",
       "\t<tr><td>14</td><td>16</td><td>18</td></tr>\n",
       "</tbody>\n",
       "</table>\n"
      ],
      "text/latex": [
       "\\begin{tabular}{lll}\n",
       "\t  2 &  4 &  6\\\\\n",
       "\t  8 & 10 & 12\\\\\n",
       "\t 14 & 16 & 18\\\\\n",
       "\\end{tabular}\n"
      ],
      "text/markdown": [
       "\n",
       "|  2 |  4 |  6 | \n",
       "|  8 | 10 | 12 | \n",
       "| 14 | 16 | 18 | \n",
       "\n",
       "\n"
      ],
      "text/plain": [
       "     [,1] [,2] [,3]\n",
       "[1,]  2    4    6  \n",
       "[2,]  8   10   12  \n",
       "[3,] 14   16   18  "
      ]
     },
     "metadata": {},
     "output_type": "display_data"
    }
   ],
   "source": [
    "2 * a"
   ]
  },
  {
   "cell_type": "code",
   "execution_count": 35,
   "metadata": {},
   "outputs": [
    {
     "name": "stdout",
     "output_type": "stream",
     "text": [
      "          [,1]      [,2] [,3]\n",
      "[1,] 0.3333333 0.6666667    1\n",
      "[2,] 1.3333333 1.6666667    2\n",
      "[3,] 2.3333333 2.6666667    3\n",
      "     [,1] [,2] [,3]\n",
      "[1,]   32   35   34\n",
      "[2,]   77   83   76\n",
      "[3,]  122  131  118\n",
      "     [,1] [,2]\n",
      "[1,]   83   76\n",
      "[2,]  131  118\n"
     ]
    }
   ],
   "source": [
    "e <- a / 3\n",
    "d <- a %*% b\n",
    "f <- a[-1, ] %*% b[ , -1]\n",
    "print(e)\n",
    "print(d)\n",
    "print(f)"
   ]
  },
  {
   "cell_type": "code",
   "execution_count": 45,
   "metadata": {},
   "outputs": [
    {
     "name": "stdout",
     "output_type": "stream",
     "text": [
      "     [,1] [,2] [,3]\n",
      "[1,]    1    2    3\n",
      "[2,]    4    5    6\n",
      "[3,]    7    8    9\n",
      "     [,1] [,2] [,3]\n",
      "[1,]    3    6    2\n",
      "[2,]    7    1    4\n",
      "[3,]    5    9    8\n",
      "     [,1] [,2]\n",
      "[1,]    1    6\n",
      "[2,]    4    1\n",
      "[3,]    7    9\n",
      "     [,1] [,2] [,3]\n",
      "[1,]    1    2    3\n",
      "[2,]    7    1    4\n"
     ]
    }
   ],
   "source": [
    "print(a)\n",
    "print(b)\n",
    "g <- cbind(a[ , 1], b[ , 2])\n",
    "h <- rbind(a[1, ], b[2, ])\n",
    "print(g)\n",
    "print(h)"
   ]
  }
 ],
 "metadata": {
  "kernelspec": {
   "display_name": "R",
   "language": "R",
   "name": "ir"
  },
  "language_info": {
   "codemirror_mode": "r",
   "file_extension": ".r",
   "mimetype": "text/x-r-source",
   "name": "R",
   "pygments_lexer": "r",
   "version": "3.4.3"
  }
 },
 "nbformat": 4,
 "nbformat_minor": 2
}
