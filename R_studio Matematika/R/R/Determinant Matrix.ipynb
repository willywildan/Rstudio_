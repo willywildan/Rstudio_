{
 "cells": [
  {
   "cell_type": "code",
   "execution_count": 10,
   "metadata": {},
   "outputs": [
    {
     "name": "stdout",
     "output_type": "stream",
     "text": [
      "     [,1] [,2]\n",
      "[1,]    1    2\n",
      "[2,]    3    4\n",
      "     [,1] [,2] [,3]\n",
      "[1,]    3    6    2\n",
      "[2,]    7    1    4\n",
      "[3,]    5    9    8\n"
     ]
    }
   ],
   "source": [
    "a <- matrix(1:4, 2, 2, TRUE)\n",
    "b <- matrix(c(3, 6, 2, 7, 1, 4, 5, 9, 8), 3, 3, TRUE)\n",
    "print(a)\n",
    "print(b)"
   ]
  },
  {
   "cell_type": "code",
   "execution_count": 11,
   "metadata": {},
   "outputs": [
    {
     "data": {
      "text/html": [
       "<table>\n",
       "<tbody>\n",
       "\t<tr><td>1</td><td>3</td></tr>\n",
       "\t<tr><td>2</td><td>4</td></tr>\n",
       "</tbody>\n",
       "</table>\n"
      ],
      "text/latex": [
       "\\begin{tabular}{ll}\n",
       "\t 1 & 3\\\\\n",
       "\t 2 & 4\\\\\n",
       "\\end{tabular}\n"
      ],
      "text/markdown": [
       "\n",
       "| 1 | 3 | \n",
       "| 2 | 4 | \n",
       "\n",
       "\n"
      ],
      "text/plain": [
       "     [,1] [,2]\n",
       "[1,] 1    3   \n",
       "[2,] 2    4   "
      ]
     },
     "metadata": {},
     "output_type": "display_data"
    },
    {
     "data": {
      "text/html": [
       "-2"
      ],
      "text/latex": [
       "-2"
      ],
      "text/markdown": [
       "-2"
      ],
      "text/plain": [
       "[1] -2"
      ]
     },
     "metadata": {},
     "output_type": "display_data"
    },
    {
     "data": {
      "text/html": [
       "<table>\n",
       "<tbody>\n",
       "\t<tr><td>-2.0</td><td> 1.0</td></tr>\n",
       "\t<tr><td> 1.5</td><td>-0.5</td></tr>\n",
       "</tbody>\n",
       "</table>\n"
      ],
      "text/latex": [
       "\\begin{tabular}{ll}\n",
       "\t -2.0 &  1.0\\\\\n",
       "\t  1.5 & -0.5\\\\\n",
       "\\end{tabular}\n"
      ],
      "text/markdown": [
       "\n",
       "| -2.0 |  1.0 | \n",
       "|  1.5 | -0.5 | \n",
       "\n",
       "\n"
      ],
      "text/plain": [
       "     [,1] [,2]\n",
       "[1,] -2.0  1.0\n",
       "[2,]  1.5 -0.5"
      ]
     },
     "metadata": {},
     "output_type": "display_data"
    },
    {
     "data": {
      "text/html": [
       "<table>\n",
       "<tbody>\n",
       "\t<tr><td>3</td><td>7</td><td>5</td></tr>\n",
       "\t<tr><td>6</td><td>1</td><td>9</td></tr>\n",
       "\t<tr><td>2</td><td>4</td><td>8</td></tr>\n",
       "</tbody>\n",
       "</table>\n"
      ],
      "text/latex": [
       "\\begin{tabular}{lll}\n",
       "\t 3 & 7 & 5\\\\\n",
       "\t 6 & 1 & 9\\\\\n",
       "\t 2 & 4 & 8\\\\\n",
       "\\end{tabular}\n"
      ],
      "text/markdown": [
       "\n",
       "| 3 | 7 | 5 | \n",
       "| 6 | 1 | 9 | \n",
       "| 2 | 4 | 8 | \n",
       "\n",
       "\n"
      ],
      "text/plain": [
       "     [,1] [,2] [,3]\n",
       "[1,] 3    7    5   \n",
       "[2,] 6    1    9   \n",
       "[3,] 2    4    8   "
      ]
     },
     "metadata": {},
     "output_type": "display_data"
    },
    {
     "data": {
      "text/html": [
       "-184"
      ],
      "text/latex": [
       "-184"
      ],
      "text/markdown": [
       "-184"
      ],
      "text/plain": [
       "[1] -184"
      ]
     },
     "metadata": {},
     "output_type": "display_data"
    },
    {
     "data": {
      "text/html": [
       "<table>\n",
       "<tbody>\n",
       "\t<tr><td> 0.1521739 </td><td> 0.16304348</td><td>-0.11956522</td></tr>\n",
       "\t<tr><td> 0.1956522 </td><td>-0.07608696</td><td>-0.01086957</td></tr>\n",
       "\t<tr><td>-0.3152174 </td><td>-0.01630435</td><td> 0.21195652</td></tr>\n",
       "</tbody>\n",
       "</table>\n"
      ],
      "text/latex": [
       "\\begin{tabular}{lll}\n",
       "\t  0.1521739  &  0.16304348 & -0.11956522\\\\\n",
       "\t  0.1956522  & -0.07608696 & -0.01086957\\\\\n",
       "\t -0.3152174  & -0.01630435 &  0.21195652\\\\\n",
       "\\end{tabular}\n"
      ],
      "text/markdown": [
       "\n",
       "|  0.1521739  |  0.16304348 | -0.11956522 | \n",
       "|  0.1956522  | -0.07608696 | -0.01086957 | \n",
       "| -0.3152174  | -0.01630435 |  0.21195652 | \n",
       "\n",
       "\n"
      ],
      "text/plain": [
       "     [,1]       [,2]        [,3]       \n",
       "[1,]  0.1521739  0.16304348 -0.11956522\n",
       "[2,]  0.1956522 -0.07608696 -0.01086957\n",
       "[3,] -0.3152174 -0.01630435  0.21195652"
      ]
     },
     "metadata": {},
     "output_type": "display_data"
    }
   ],
   "source": [
    "t(a)\n",
    "det(a)\n",
    "solve(a)\n",
    "t(b)\n",
    "det(b)\n",
    "solve(b)"
   ]
  }
 ],
 "metadata": {
  "kernelspec": {
   "display_name": "R",
   "language": "R",
   "name": "ir"
  },
  "language_info": {
   "codemirror_mode": "r",
   "file_extension": ".r",
   "mimetype": "text/x-r-source",
   "name": "R",
   "pygments_lexer": "r",
   "version": "3.4.3"
  }
 },
 "nbformat": 4,
 "nbformat_minor": 2
}
